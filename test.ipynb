{
 "cells": [
  {
   "cell_type": "markdown",
   "metadata": {},
   "source": [
    "### demo 1: create - train - test bestmatch apdater with exist corpus"
   ]
  },
  {
   "cell_type": "code",
   "execution_count": 3,
   "metadata": {},
   "outputs": [],
   "source": [
    "from chatterbot import ChatBot\n",
    "from chatterbot.trainers import ChatterBotCorpusTrainer, ListTrainer"
   ]
  },
  {
   "cell_type": "code",
   "execution_count": 4,
   "metadata": {},
   "outputs": [
    {
     "name": "stderr",
     "output_type": "stream",
     "text": [
      "/home/phmnm/.local/lib/python3.8/site-packages/chatterbot/corpus.py:59: YAMLLoadWarning: calling yaml.load() without Loader=... is deprecated, as the default Loader is unsafe. Please read https://msg.pyyaml.org/load for full details.\n",
      "  return yaml.load(data_file)\n"
     ]
    },
    {
     "name": "stdout",
     "output_type": "stream",
     "text": [
      "Training ai.yml: [####################] 100%\n",
      "Training botprofile.yml: [####################] 100%\n",
      "Training computers.yml: [####################] 100%\n",
      "Training conversations.yml: [####################] 100%\n",
      "Training emotion.yml: [####################] 100%\n",
      "Training food.yml: [####################] 100%\n",
      "Training gossip.yml: [####################] 100%\n",
      "Training greetings.yml: [####################] 100%\n",
      "Training health.yml: [####################] 100%\n",
      "Training history.yml: [####################] 100%\n",
      "Training humor.yml: [####################] 100%\n",
      "Training literature.yml: [####################] 100%\n",
      "Training money.yml: [####################] 100%\n",
      "Training movies.yml: [####################] 100%\n",
      "Training politics.yml: [####################] 100%\n",
      "Training psychology.yml: [####################] 100%\n",
      "Training science.yml: [####################] 100%\n",
      "Training sports.yml: [####################] 100%\n",
      "Training trivia.yml: [####################] 100%\n"
     ]
    }
   ],
   "source": [
    "\n",
    "'''\n",
    "This is an example showing how to create an export file from\n",
    "an existing chat bot that can then be used to train other bots.\n",
    "'''\n",
    "\n",
    "chatbot = ChatBot('Export Example Bot')\n",
    "\n",
    "# First, lets train our bot with some data\n",
    "trainer = ChatterBotCorpusTrainer(chatbot)\n",
    "\n",
    "trainer.train('chatterbot.corpus.english')\n",
    "\n",
    "# Now we can export the data to a file\n",
    "trainer.export_for_training('./my_export.json')"
   ]
  },
  {
   "cell_type": "code",
   "execution_count": 5,
   "metadata": {},
   "outputs": [
    {
     "name": "stdout",
     "output_type": "stream",
     "text": [
      "Artificial Intelligence is the branch of engineering and science devoted to constructing machines that think.\n"
     ]
    }
   ],
   "source": [
    "res = chatbot.get_response(\"What is AI?\")\n",
    "print(res)"
   ]
  },
  {
   "cell_type": "markdown",
   "metadata": {},
   "source": [
    "### demo 2: create - test math&time adapters"
   ]
  },
  {
   "cell_type": "code",
   "execution_count": 7,
   "metadata": {},
   "outputs": [
    {
     "name": "stdout",
     "output_type": "stream",
     "text": [
      "4 ^ 9 = 262144\n",
      "The current time is 09:00 AM\n"
     ]
    }
   ],
   "source": [
    "mtbot = ChatBot(\n",
    "    'Math & Time Bot',\n",
    "    logic_adapters=[\n",
    "        'chatterbot.logic.MathematicalEvaluation',\n",
    "        'chatterbot.logic.TimeLogicAdapter'\n",
    "    ],\n",
    ")\n",
    "\n",
    "# Print an example of getting one math based response\n",
    "response = mtbot.get_response('What is 4 ^ 9?')\n",
    "print(response)\n",
    "\n",
    "# Print an example of getting one time based response\n",
    "response = mtbot.get_response('What time is it?')\n",
    "print(response)"
   ]
  },
  {
   "cell_type": "markdown",
   "metadata": {},
   "source": [
    "### demo 3: create - test with exist database"
   ]
  },
  {
   "cell_type": "code",
   "execution_count": 8,
   "metadata": {},
   "outputs": [
    {
     "name": "stdout",
     "output_type": "stream",
     "text": [
      "Artificial Intelligence is the branch of engineering and science devoted to constructing machines that think.\n"
     ]
    }
   ],
   "source": [
    "ex_bot = ChatBot (\n",
    "    'Using Exist DB Bot',\n",
    "    logic_adapters=['chatterbot.logic.BestMatch'],\n",
    "    storage_adapter='chatterbot.storage.SQLStorageAdapter',\n",
    "    database_uri = 'sqlite:///db.sqlite3' #created by the code dem 1 above\n",
    ")\n",
    "response = ex_bot.get_response('What is AI?')\n",
    "print(response)"
   ]
  },
  {
   "cell_type": "markdown",
   "metadata": {},
   "source": [
    "### demo 4: create - train - test on list statement"
   ]
  },
  {
   "cell_type": "code",
   "execution_count": 10,
   "metadata": {},
   "outputs": [
    {
     "name": "stdout",
     "output_type": "stream",
     "text": [
      "List Trainer: [####################] 100%\n",
      "That tot khi nghe dieu ay.\n"
     ]
    }
   ],
   "source": [
    "list_bot = ChatBot (\n",
    "    'List-train Bot',\n",
    "    logic_adapters=['chatterbot.logic.BestMatch'],\n",
    "    database_uri = 'sqlite:///db_list.sqlite3' #avoid reuse default 'db.sqlite3' storage'\n",
    ")\n",
    "list_trainer = ListTrainer(list_bot)\n",
    "\n",
    "list_trainer.train(\n",
    "    [\n",
    "    'Ban khoe khong?',\n",
    "    'Toi khoe.',\n",
    "    'That tot khi nghe dieu ay.',\n",
    "    'Cam on.',\n",
    "    'Khong co chi.',\n",
    "    ]\n",
    ")\n",
    "response = list_bot.get_response('Ban co khoe khong?')\n",
    "print(response)"
   ]
  }
 ],
 "metadata": {
  "interpreter": {
   "hash": "5b3ded1ccb95c1d9bd405e7b823d9e85424cde40fbb5985eb47e999ef50e15b4"
  },
  "kernelspec": {
   "display_name": "Python 3.8.10 64-bit",
   "language": "python",
   "name": "python3"
  },
  "language_info": {
   "codemirror_mode": {
    "name": "ipython",
    "version": 3
   },
   "file_extension": ".py",
   "mimetype": "text/x-python",
   "name": "python",
   "nbconvert_exporter": "python",
   "pygments_lexer": "ipython3",
   "version": "3.8.10"
  },
  "orig_nbformat": 4
 },
 "nbformat": 4,
 "nbformat_minor": 2
}
